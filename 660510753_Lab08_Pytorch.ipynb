{
  "cells": [
    {
      "cell_type": "markdown",
      "metadata": {
        "id": "view-in-github",
        "colab_type": "text"
      },
      "source": [
        "<a href=\"https://colab.research.google.com/github/kwankao26/229352-Course-Name-Statistical-Learning-for-Data-Science-2-Semester-1-2025/blob/Lab/660510753_Lab08_Pytorch.ipynb\" target=\"_parent\"><img src=\"https://colab.research.google.com/assets/colab-badge.svg\" alt=\"Open In Colab\"/></a>"
      ]
    },
    {
      "cell_type": "markdown",
      "metadata": {
        "id": "EDWvNKwhAWGv"
      },
      "source": [
        "### Statistical Learning for Data Science 2 (229352)\n",
        "#### Instructor: Donlapark Ponnoprat\n",
        "\n",
        "#### [Course website](https://donlapark.pages.dev/229352/)\n",
        "\n",
        "## Lab #8"
      ]
    },
    {
      "cell_type": "markdown",
      "metadata": {
        "id": "G-nQb7jGS3PJ"
      },
      "source": [
        "There are several deep learning frameworks in Python.\n",
        "\n",
        "<img src=\"https://upload.wikimedia.org/wikipedia/commons/thumb/c/c6/PyTorch_logo_black.svg/2560px-PyTorch_logo_black.svg.png\" width=\"100\"/>&nbsp;&nbsp;&nbsp;&nbsp;&nbsp;&nbsp;&nbsp;<img src=\"https://upload.wikimedia.org/wikipedia/commons/2/2d/Tensorflow_logo.svg\" width=\"40\"/><img src=\"https://assets-global.website-files.com/621e749a546b7592125f38ed/62277da165ed192adba475fc_JAX.jpg\" width=\"100\"/>\n",
        "\n",
        "In this Lab, we will use PyTorch"
      ]
    },
    {
      "cell_type": "code",
      "execution_count": 1,
      "metadata": {
        "id": "MzJSrt8CSv4p"
      },
      "outputs": [],
      "source": [
        "import numpy as np\n",
        "\n",
        "import torch"
      ]
    },
    {
      "cell_type": "markdown",
      "metadata": {
        "id": "QEsXce8XuwIW"
      },
      "source": [
        "# Tensor basics"
      ]
    },
    {
      "cell_type": "markdown",
      "metadata": {
        "id": "qr1d7mpfrQ-W"
      },
      "source": [
        "## Basic tensor creation"
      ]
    },
    {
      "cell_type": "markdown",
      "metadata": {
        "id": "zoo78UqZZBmo"
      },
      "source": [
        "### Creating a scalar (1D) tensor"
      ]
    },
    {
      "cell_type": "code",
      "execution_count": 2,
      "metadata": {
        "colab": {
          "base_uri": "https://localhost:8080/"
        },
        "id": "8QkirMVZUpfe",
        "outputId": "151ab652-c320-4ff6-ab8a-397e9e34fe73"
      },
      "outputs": [
        {
          "output_type": "stream",
          "name": "stdout",
          "text": [
            "tensor(8)\n",
            "tensor(9)\n",
            "tensor(17)\n"
          ]
        }
      ],
      "source": [
        "a = torch.tensor(8)\n",
        "b = torch.tensor(9)\n",
        "print(a)\n",
        "print(b)\n",
        "print(a+b)"
      ]
    },
    {
      "cell_type": "markdown",
      "metadata": {
        "id": "Y2D_T5PPZI4L"
      },
      "source": [
        "### Convert a tensor to scalar"
      ]
    },
    {
      "cell_type": "code",
      "execution_count": 3,
      "metadata": {
        "colab": {
          "base_uri": "https://localhost:8080/"
        },
        "id": "BSkS98iYXVZI",
        "outputId": "6c0d42df-67f3-43b9-9877-9140d2f38d42"
      },
      "outputs": [
        {
          "output_type": "execute_result",
          "data": {
            "text/plain": [
              "8"
            ]
          },
          "metadata": {},
          "execution_count": 3
        }
      ],
      "source": [
        "a.item()"
      ]
    },
    {
      "cell_type": "markdown",
      "metadata": {
        "id": "wLUTVuu8ZPCV"
      },
      "source": [
        "### Creating 2D tensor"
      ]
    },
    {
      "cell_type": "code",
      "execution_count": 4,
      "metadata": {
        "colab": {
          "base_uri": "https://localhost:8080/"
        },
        "id": "ST-ZldGXX9SY",
        "outputId": "ffab9875-3316-4d6b-c3db-7850c1543a95"
      },
      "outputs": [
        {
          "output_type": "stream",
          "name": "stdout",
          "text": [
            "tensor([[1, 2],\n",
            "        [3, 4]])\n"
          ]
        }
      ],
      "source": [
        "A = torch.tensor([[1, 2], [3, 4]])\n",
        "print(A)"
      ]
    },
    {
      "cell_type": "markdown",
      "metadata": {
        "id": "RL1rmhg8rVgY"
      },
      "source": [
        "## Tensor and Numpy"
      ]
    },
    {
      "cell_type": "markdown",
      "metadata": {
        "id": "1LSTMBVNZjAu"
      },
      "source": [
        "### Convert from tensor to numpy array"
      ]
    },
    {
      "cell_type": "code",
      "execution_count": 5,
      "metadata": {
        "colab": {
          "base_uri": "https://localhost:8080/"
        },
        "id": "I4LkkrQdYbLq",
        "outputId": "1002fb2c-6fc9-4722-d694-3e41870e2adb"
      },
      "outputs": [
        {
          "output_type": "execute_result",
          "data": {
            "text/plain": [
              "array([[1, 2],\n",
              "       [3, 4]])"
            ]
          },
          "metadata": {},
          "execution_count": 5
        }
      ],
      "source": [
        "A.numpy()"
      ]
    },
    {
      "cell_type": "markdown",
      "metadata": {
        "id": "xcFexnBYZn73"
      },
      "source": [
        "### Convert from numpy array to tensor"
      ]
    },
    {
      "cell_type": "code",
      "execution_count": 6,
      "metadata": {
        "colab": {
          "base_uri": "https://localhost:8080/"
        },
        "id": "lDRLWyGkZmjM",
        "outputId": "a852237b-4d5d-49f6-932f-b420cd0ed452"
      },
      "outputs": [
        {
          "output_type": "stream",
          "name": "stdout",
          "text": [
            "tensor([[1, 2],\n",
            "        [3, 4]])\n"
          ]
        }
      ],
      "source": [
        "B = np.array([[1, 2], [3, 4]])\n",
        "\n",
        "C = torch.from_numpy(B)\n",
        "print(C)"
      ]
    },
    {
      "cell_type": "markdown",
      "metadata": {
        "id": "5bLYQUdDb47c"
      },
      "source": [
        "## Basic operations"
      ]
    },
    {
      "cell_type": "code",
      "execution_count": 7,
      "metadata": {
        "colab": {
          "base_uri": "https://localhost:8080/"
        },
        "id": "O1ZL-UgraQZG",
        "outputId": "689c6514-fe0c-4b0a-f6a6-46ceb922b1a4"
      },
      "outputs": [
        {
          "output_type": "stream",
          "name": "stdout",
          "text": [
            "tensor([[2, 4],\n",
            "        [6, 8]])\n",
            "tensor([[-9, -8],\n",
            "        [-7, -6]])\n"
          ]
        }
      ],
      "source": [
        "D = 2*C\n",
        "\n",
        "E = C - 10\n",
        "\n",
        "print(D)\n",
        "print(E)"
      ]
    },
    {
      "cell_type": "markdown",
      "metadata": {
        "id": "K_k3thRzrdpd"
      },
      "source": [
        "### Matrix multiplication"
      ]
    },
    {
      "cell_type": "code",
      "execution_count": 8,
      "metadata": {
        "colab": {
          "base_uri": "https://localhost:8080/"
        },
        "id": "d1XwpoNaakY2",
        "outputId": "fe9fd818-38af-4bb9-b9f6-f6c0305b6723"
      },
      "outputs": [
        {
          "output_type": "stream",
          "name": "stdout",
          "text": [
            "tensor([[ -46,  -40],\n",
            "        [-110,  -96]])\n",
            "tensor([[ -46,  -40],\n",
            "        [-110,  -96]])\n",
            "tensor([[ -46,  -40],\n",
            "        [-110,  -96]])\n"
          ]
        }
      ],
      "source": [
        "print(torch.matmul(D, E))\n",
        "print(torch.mm(D, E))\n",
        "print(D @ E)"
      ]
    },
    {
      "cell_type": "markdown",
      "metadata": {
        "id": "TwJki4afrf0m"
      },
      "source": [
        "### Matrix transpose"
      ]
    },
    {
      "cell_type": "code",
      "execution_count": 9,
      "metadata": {
        "colab": {
          "base_uri": "https://localhost:8080/"
        },
        "id": "IumkARr4g3Nv",
        "outputId": "3d7f9574-d032-4817-f0f9-9d5ea9147a6d"
      },
      "outputs": [
        {
          "output_type": "stream",
          "name": "stdout",
          "text": [
            "tensor([[1, 2],\n",
            "        [3, 4]])\n",
            "tensor([[1, 3],\n",
            "        [2, 4]])\n"
          ]
        }
      ],
      "source": [
        "print(C)\n",
        "print( C.t() )"
      ]
    },
    {
      "cell_type": "markdown",
      "metadata": {
        "id": "AuwWEOBYcbiL"
      },
      "source": [
        "## Creating a specific type of tensor"
      ]
    },
    {
      "cell_type": "code",
      "execution_count": 10,
      "metadata": {
        "id": "Vg757DJLaoqh"
      },
      "outputs": [],
      "source": [
        "# print(torch.zeros(2,3))\n",
        "# print(torch.ones(2,3))\n",
        "# print(torch.rand(2,3))\n",
        "# print(torch.randn(2,3))  # sample each number from N(0, 1)\n",
        "# print(torch.arange(9))"
      ]
    },
    {
      "cell_type": "markdown",
      "metadata": {
        "id": "aUeodCiLrofw"
      },
      "source": [
        "## Tensor's shape"
      ]
    },
    {
      "cell_type": "markdown",
      "metadata": {
        "id": "qJTX5WOHhVsB"
      },
      "source": [
        "### Checking the shape of a tensor"
      ]
    },
    {
      "cell_type": "code",
      "execution_count": 11,
      "metadata": {
        "colab": {
          "base_uri": "https://localhost:8080/"
        },
        "id": "Nzn5Lyqfhcmf",
        "outputId": "572c3b58-3c7e-469b-9e69-61a104322420"
      },
      "outputs": [
        {
          "output_type": "stream",
          "name": "stdout",
          "text": [
            "torch.Size([4, 5])\n",
            "torch.Size([4, 5])\n"
          ]
        }
      ],
      "source": [
        "F = torch.zeros((4, 5))\n",
        "print(F.shape)\n",
        "print(F.size())"
      ]
    },
    {
      "cell_type": "markdown",
      "metadata": {
        "id": "Vf21H-EvgE87"
      },
      "source": [
        "### Changing the shape of a tensor"
      ]
    },
    {
      "cell_type": "code",
      "execution_count": 12,
      "metadata": {
        "colab": {
          "base_uri": "https://localhost:8080/"
        },
        "id": "o71IJ7_ic1U8",
        "outputId": "86de4a2b-9d68-4d8e-cc99-37a77aa0a2b9"
      },
      "outputs": [
        {
          "output_type": "stream",
          "name": "stdout",
          "text": [
            "tensor([[0, 1, 2],\n",
            "        [3, 4, 5]])\n",
            "tensor([[0, 1, 2],\n",
            "        [3, 4, 5]])\n"
          ]
        }
      ],
      "source": [
        "G = torch.arange(6)\n",
        "print(G.view(2, 3))\n",
        "print(G.reshape(2, 3))"
      ]
    },
    {
      "cell_type": "code",
      "source": [
        "G1 = G.reshape(2, 3)\n",
        "G1"
      ],
      "metadata": {
        "colab": {
          "base_uri": "https://localhost:8080/"
        },
        "id": "LVqTfwivCrh8",
        "outputId": "87e8bfb2-39e7-48a3-c4c8-b373d9626101"
      },
      "execution_count": 13,
      "outputs": [
        {
          "output_type": "execute_result",
          "data": {
            "text/plain": [
              "tensor([[0, 1, 2],\n",
              "        [3, 4, 5]])"
            ]
          },
          "metadata": {},
          "execution_count": 13
        }
      ]
    },
    {
      "cell_type": "markdown",
      "metadata": {
        "id": "7nZgFYT5gd2_"
      },
      "source": [
        "In general, use `reshape`, but if you are worried about the memory usage, use `view`."
      ]
    },
    {
      "cell_type": "code",
      "source": [
        "G2 = G.view(2, 3)\n",
        "G2"
      ],
      "metadata": {
        "colab": {
          "base_uri": "https://localhost:8080/"
        },
        "id": "NZOar3c1C3o1",
        "outputId": "7dc72af7-a1f8-4dcf-d1cf-6d0ce1ab079c"
      },
      "execution_count": 14,
      "outputs": [
        {
          "output_type": "execute_result",
          "data": {
            "text/plain": [
              "tensor([[0, 1, 2],\n",
              "        [3, 4, 5]])"
            ]
          },
          "metadata": {},
          "execution_count": 14
        }
      ]
    },
    {
      "cell_type": "code",
      "source": [
        "G = torch.arange(6)\n",
        "print(G.view(2, 3))\n",
        "print(G.reshape(2, 3))"
      ],
      "metadata": {
        "colab": {
          "base_uri": "https://localhost:8080/"
        },
        "id": "KTO8qKUpC306",
        "outputId": "e36d12c3-7d7f-4509-d8af-6de7936762a0"
      },
      "execution_count": 15,
      "outputs": [
        {
          "output_type": "stream",
          "name": "stdout",
          "text": [
            "tensor([[0, 1, 2],\n",
            "        [3, 4, 5]])\n",
            "tensor([[0, 1, 2],\n",
            "        [3, 4, 5]])\n"
          ]
        }
      ]
    },
    {
      "cell_type": "markdown",
      "metadata": {
        "id": "uEA3iRzznjNx"
      },
      "source": [
        "### Stacking and concatenating tensors"
      ]
    },
    {
      "cell_type": "code",
      "execution_count": 16,
      "metadata": {
        "colab": {
          "base_uri": "https://localhost:8080/"
        },
        "id": "MQ6JEjsmgbpI",
        "outputId": "1f88a2a8-3630-4375-c5d4-e11763420fb2"
      },
      "outputs": [
        {
          "output_type": "stream",
          "name": "stdout",
          "text": [
            "tensor([[0, 1, 2, 3, 4, 5],\n",
            "        [0, 1, 2, 3, 4, 5],\n",
            "        [0, 1, 2, 3, 4, 5],\n",
            "        [0, 1, 2, 3, 4, 5]])\n",
            "tensor([[0, 0, 0, 0],\n",
            "        [1, 1, 1, 1],\n",
            "        [2, 2, 2, 2],\n",
            "        [3, 3, 3, 3],\n",
            "        [4, 4, 4, 4],\n",
            "        [5, 5, 5, 5]])\n"
          ]
        }
      ],
      "source": [
        "H = torch.arange(6)\n",
        "I = torch.stack([H, H, H, H], axis=0)\n",
        "J = torch.stack([H, H, H, H], axis=1)\n",
        "print(I)\n",
        "print(J)"
      ]
    },
    {
      "cell_type": "code",
      "execution_count": 17,
      "metadata": {
        "colab": {
          "base_uri": "https://localhost:8080/"
        },
        "id": "Zkz--DJuXyD1",
        "outputId": "663f3fd2-8971-442d-ffbb-84a8b1d86101"
      },
      "outputs": [
        {
          "output_type": "stream",
          "name": "stdout",
          "text": [
            "tensor([0, 1, 2, 3, 4, 5, 0, 1, 2, 3, 4, 5, 0, 1, 2, 3, 4, 5, 0, 1, 2, 3, 4, 5])\n"
          ]
        }
      ],
      "source": [
        "# concatenate\n",
        "\n",
        "I = torch.cat([H, H, H, H], axis=0)\n",
        "print(I)\n",
        "# J = torch.cat([H, H, H, H], axis=1)\n",
        "#print(J)"
      ]
    },
    {
      "cell_type": "markdown",
      "metadata": {
        "id": "eWd_-Ub_pF3b"
      },
      "source": [
        "### Squeezing a tensor (removing an extra dimension)"
      ]
    },
    {
      "cell_type": "code",
      "execution_count": 18,
      "metadata": {
        "colab": {
          "base_uri": "https://localhost:8080/"
        },
        "id": "gf8iDb_PoX_4",
        "outputId": "854ac326-c8c7-41af-c785-3426ec50f7be"
      },
      "outputs": [
        {
          "output_type": "stream",
          "name": "stdout",
          "text": [
            "H= tensor([0, 1, 2, 3, 4, 5])\n",
            "K= tensor([[0, 1, 2, 3, 4, 5]])\n",
            "torch.Size([1, 6])\n"
          ]
        }
      ],
      "source": [
        "# [[1,2]] this is (1,2) tensor, want (2,)\n",
        "print(\"H=\", H) # shape = (6,)\n",
        "K = H.reshape(1,6)\n",
        "print(\"K=\", K)\n",
        "print(K.shape)"
      ]
    },
    {
      "cell_type": "code",
      "execution_count": 19,
      "metadata": {
        "colab": {
          "base_uri": "https://localhost:8080/"
        },
        "id": "Ke3ro96Cp7rT",
        "outputId": "70027954-7aef-4271-d730-a19ea5fc872c"
      },
      "outputs": [
        {
          "output_type": "stream",
          "name": "stdout",
          "text": [
            "tensor([0, 1, 2, 3, 4, 5])\n"
          ]
        }
      ],
      "source": [
        "print(K.squeeze())"
      ]
    },
    {
      "cell_type": "code",
      "execution_count": 20,
      "metadata": {
        "colab": {
          "base_uri": "https://localhost:8080/"
        },
        "id": "DJxWfoyOqaQs",
        "outputId": "e4dd1a57-f014-4442-cc9b-e86af7a00602"
      },
      "outputs": [
        {
          "output_type": "stream",
          "name": "stdout",
          "text": [
            "tensor([[0, 1, 2, 3, 4, 5]])\n",
            "tensor([[0],\n",
            "        [1],\n",
            "        [2],\n",
            "        [3],\n",
            "        [4],\n",
            "        [5]])\n"
          ]
        }
      ],
      "source": [
        "# H.shape = (6, )\n",
        "L = H.unsqueeze(axis=0)  # L.shape(1, 6)\n",
        "M = H.unsqueeze(axis=1)  # L.shape(6, 1)\n",
        "print(L)\n",
        "print(M)"
      ]
    },
    {
      "cell_type": "markdown",
      "metadata": {
        "id": "bfaM--ZlsUsB"
      },
      "source": [
        "## Indexing"
      ]
    },
    {
      "cell_type": "code",
      "execution_count": 21,
      "metadata": {
        "colab": {
          "base_uri": "https://localhost:8080/"
        },
        "id": "fPqsnD8qsWsH",
        "outputId": "d1d89129-9a14-4ed8-d3fe-83fbf67a788b"
      },
      "outputs": [
        {
          "output_type": "stream",
          "name": "stdout",
          "text": [
            "tensor([[ 0,  1,  2,  3],\n",
            "        [ 4,  5,  6,  7],\n",
            "        [ 8,  9, 10, 11]])\n",
            "tensor([0, 1, 2, 3])\n",
            "tensor([0, 4, 8])\n",
            "tensor([ 8,  9, 10, 11])\n",
            "tensor([ 3,  7, 11])\n",
            "tensor([[ 4,  5,  6,  7],\n",
            "        [ 8,  9, 10, 11]])\n",
            "tensor([[ 2,  3],\n",
            "        [ 6,  7],\n",
            "        [10, 11]])\n"
          ]
        }
      ],
      "source": [
        "P = torch.arange(12).reshape(3,4)\n",
        "print(P)\n",
        "print(P[0])\n",
        "print(P[:, 0])\n",
        "print(P[-1])\n",
        "print(P[:, -1])\n",
        "print(P[-2:])\n",
        "print(P[:, -2:])"
      ]
    },
    {
      "cell_type": "markdown",
      "metadata": {
        "id": "ftVXJ-3ur9yk"
      },
      "source": [
        "## PyTorch and GPU"
      ]
    },
    {
      "cell_type": "markdown",
      "metadata": {
        "id": "2TmzZR23sKOW"
      },
      "source": [
        "check if GPU is available"
      ]
    },
    {
      "cell_type": "code",
      "execution_count": 22,
      "metadata": {
        "colab": {
          "base_uri": "https://localhost:8080/"
        },
        "id": "TSiXGmqrqyzw",
        "outputId": "f49cfb69-7932-41da-ae40-6d982291bdf7"
      },
      "outputs": [
        {
          "output_type": "execute_result",
          "data": {
            "text/plain": [
              "True"
            ]
          },
          "metadata": {},
          "execution_count": 22
        }
      ],
      "source": [
        "torch.cuda.is_available()"
      ]
    },
    {
      "cell_type": "code",
      "execution_count": 23,
      "metadata": {
        "colab": {
          "base_uri": "https://localhost:8080/"
        },
        "id": "wjDt08_7sMxz",
        "outputId": "f16d25f4-cc29-439e-f4f3-b414c8687a43"
      },
      "outputs": [
        {
          "output_type": "stream",
          "name": "stdout",
          "text": [
            "cpu\n"
          ]
        }
      ],
      "source": [
        "Q = torch.tensor([1, 2, 3])\n",
        "print(Q.device)"
      ]
    },
    {
      "cell_type": "code",
      "execution_count": 24,
      "metadata": {
        "colab": {
          "base_uri": "https://localhost:8080/"
        },
        "id": "7BitUf-RtdG3",
        "outputId": "2356dd96-f50f-43f9-ba63-367de26b361d"
      },
      "outputs": [
        {
          "output_type": "stream",
          "name": "stdout",
          "text": [
            "cpu\n",
            "cuda:0\n"
          ]
        }
      ],
      "source": [
        "R = Q.to('cuda')\n",
        "print(Q.device)\n",
        "print(R.device)"
      ]
    },
    {
      "cell_type": "code",
      "execution_count": 25,
      "metadata": {
        "colab": {
          "base_uri": "https://localhost:8080/"
        },
        "id": "PbsTOQ-Itiax",
        "outputId": "f68bb1fe-5884-4a14-ce2f-7eccd699e60b"
      },
      "outputs": [
        {
          "output_type": "execute_result",
          "data": {
            "text/plain": [
              "array([1, 2, 3])"
            ]
          },
          "metadata": {},
          "execution_count": 25
        }
      ],
      "source": [
        "R.cpu().numpy()"
      ]
    },
    {
      "cell_type": "code",
      "execution_count": null,
      "metadata": {
        "id": "RkI3ITOLt2S6"
      },
      "outputs": [],
      "source": []
    },
    {
      "cell_type": "markdown",
      "metadata": {
        "id": "aZBZ3f66AFye"
      },
      "source": [
        "# Exercise\n",
        "\n",
        "In this exercise, we will simulate data to perform linear regression with 200 rows and 7 variables.\n",
        "\n",
        "1. Create three random $N(0,1)$ tensors: `X`, `b` and `e` with `X.shape = (200, 7)`, `b.shape = (8, 1)` and `e.shape = (200, 1)` respectively.\n",
        "2. Create a tensor that contains only 1's with shape `(200, 1)`.\n",
        "3. Modify tensor `X` by adding the tensor in 2. as the first column.\n",
        "4. Compute `y` using the following formula:\n",
        "$$ y = Xb + e $$.\n",
        "5. Fit a linear regression to the data `X` and `y` and obtain a tensor of estimated coefficient `b_hat`. The formula for `b_hat` is given by:\n",
        "$$ \\hat{b} = (X^TX)^{-1}X^Ty $$\n",
        "Note: use `torch.inverse(...)` to calculate the inverse\n",
        "6. Compute the predictions `y_hat`, given by:\n",
        "$$ \\hat{y} = X\\hat{b} $$\n",
        "7. Convert both `y` and `y_hat` from tensor to Numpy array and calculate MSE:\n",
        "$$ MSE = \\frac{1}{200}\\sum_{i=1}^{200} (y_i - \\hat{y}_i)^2 $$"
      ]
    },
    {
      "cell_type": "code",
      "execution_count": 43,
      "metadata": {
        "colab": {
          "base_uri": "https://localhost:8080/"
        },
        "id": "eQOsf3B_QnvN",
        "outputId": "016c5d91-1963-4032-9a14-295d17ceb36c"
      },
      "outputs": [
        {
          "output_type": "stream",
          "name": "stdout",
          "text": [
            "tensor([[2, 3, 2],\n",
            "        [4, 6, 7],\n",
            "        [7, 2, 4]])\n",
            "tensor([[1, 2, 3, 2],\n",
            "        [1, 4, 6, 7],\n",
            "        [1, 7, 2, 4]])\n"
          ]
        }
      ],
      "source": [
        "X = torch.tensor([[2, 3, 2], [4, 6, 7], [7, 2, 4]])\n",
        "print(X)\n",
        "\n",
        "X = torch.tensor([[1, 2, 3, 2], [1, 4, 6, 7], [1, 7, 2, 4]])\n",
        "print(X)"
      ]
    },
    {
      "cell_type": "code",
      "execution_count": 44,
      "metadata": {
        "id": "Qm_SlwkZQ_i1",
        "colab": {
          "base_uri": "https://localhost:8080/"
        },
        "outputId": "2c01eb7d-78b3-46a1-84b1-d2c6cfdc2c4c"
      },
      "outputs": [
        {
          "output_type": "stream",
          "name": "stdout",
          "text": [
            "torch.Size([200, 7])\n",
            "torch.Size([8, 1])\n",
            "torch.Size([200, 1])\n"
          ]
        }
      ],
      "source": [
        "#1\n",
        "X = torch.randn(200, 7)\n",
        "b = torch.randn(8, 1)\n",
        "e = torch.randn(200, 1)\n",
        "\n",
        "print(X.shape)\n",
        "print(b.shape)\n",
        "print(e.shape)"
      ]
    },
    {
      "cell_type": "code",
      "source": [
        "#2\n",
        "ones = torch.ones(200, 1)\n",
        "print(ones.shape)"
      ],
      "metadata": {
        "colab": {
          "base_uri": "https://localhost:8080/"
        },
        "id": "GQ_6Cbg-GC1I",
        "outputId": "6994011d-4c6e-468a-97ca-b50a141f698a"
      },
      "execution_count": 45,
      "outputs": [
        {
          "output_type": "stream",
          "name": "stdout",
          "text": [
            "torch.Size([200, 1])\n"
          ]
        }
      ]
    },
    {
      "cell_type": "code",
      "source": [
        "#3\n",
        "X = torch.cat([ones, X], dim=1)\n",
        "print(X)\n"
      ],
      "metadata": {
        "colab": {
          "base_uri": "https://localhost:8080/"
        },
        "id": "ntlKOEZUGw3s",
        "outputId": "e3db6b87-8675-4dd5-8817-7baa497a1e2d"
      },
      "execution_count": 46,
      "outputs": [
        {
          "output_type": "stream",
          "name": "stdout",
          "text": [
            "tensor([[ 1.0000,  2.5906, -0.1442,  ...,  0.3704,  1.0243,  0.3509],\n",
            "        [ 1.0000, -0.1160, -0.5129,  ...,  0.8523,  0.3443, -0.2194],\n",
            "        [ 1.0000,  1.6952,  0.7313,  ...,  0.9143, -1.2950,  0.9506],\n",
            "        ...,\n",
            "        [ 1.0000, -0.1819, -0.7622,  ...,  2.3914, -1.2396, -0.0733],\n",
            "        [ 1.0000,  0.0529,  0.9842,  ..., -0.6918,  0.6105,  0.5743],\n",
            "        [ 1.0000,  0.0542,  0.1354,  ...,  1.0258,  0.5135,  0.7213]])\n"
          ]
        }
      ]
    },
    {
      "cell_type": "code",
      "source": [
        "#4\n",
        "y = X @ b + e\n",
        "print(y)"
      ],
      "metadata": {
        "colab": {
          "base_uri": "https://localhost:8080/"
        },
        "id": "h0qlHXGOHTnc",
        "outputId": "5216bdb0-950c-4b1a-bd22-1e7367530ea6"
      },
      "execution_count": 48,
      "outputs": [
        {
          "output_type": "stream",
          "name": "stdout",
          "text": [
            "tensor([[ 0.1709],\n",
            "        [ 1.2905],\n",
            "        [-3.8014],\n",
            "        [-2.9848],\n",
            "        [-1.8588],\n",
            "        [-3.4213],\n",
            "        [ 0.5205],\n",
            "        [-1.9539],\n",
            "        [-3.0830],\n",
            "        [ 5.9926],\n",
            "        [ 2.1340],\n",
            "        [-1.2139],\n",
            "        [-2.1837],\n",
            "        [ 4.2594],\n",
            "        [-2.1842],\n",
            "        [-1.5498],\n",
            "        [-3.5498],\n",
            "        [-1.4226],\n",
            "        [-1.5471],\n",
            "        [-1.9985],\n",
            "        [-1.2902],\n",
            "        [-1.5186],\n",
            "        [ 3.7983],\n",
            "        [-1.5178],\n",
            "        [-0.6752],\n",
            "        [-4.1522],\n",
            "        [-1.3738],\n",
            "        [ 0.7177],\n",
            "        [-0.2385],\n",
            "        [-0.1289],\n",
            "        [ 1.0513],\n",
            "        [-0.0340],\n",
            "        [ 1.2910],\n",
            "        [ 0.2476],\n",
            "        [ 0.7186],\n",
            "        [-2.9613],\n",
            "        [ 4.6583],\n",
            "        [ 0.6427],\n",
            "        [-0.4228],\n",
            "        [ 1.3792],\n",
            "        [ 0.1927],\n",
            "        [-4.0754],\n",
            "        [ 0.2504],\n",
            "        [-7.6184],\n",
            "        [-1.2870],\n",
            "        [-1.6575],\n",
            "        [ 3.4576],\n",
            "        [-0.1835],\n",
            "        [-2.7680],\n",
            "        [-2.4057],\n",
            "        [-1.6278],\n",
            "        [-1.3031],\n",
            "        [-4.0199],\n",
            "        [-3.1521],\n",
            "        [-3.3172],\n",
            "        [-0.0966],\n",
            "        [-2.6388],\n",
            "        [ 0.0848],\n",
            "        [ 3.6667],\n",
            "        [ 3.7698],\n",
            "        [-7.0170],\n",
            "        [-0.4548],\n",
            "        [-1.2266],\n",
            "        [ 1.6451],\n",
            "        [-1.2453],\n",
            "        [ 3.5570],\n",
            "        [-2.6923],\n",
            "        [-1.1867],\n",
            "        [-3.8095],\n",
            "        [-0.3871],\n",
            "        [-3.3431],\n",
            "        [-1.3024],\n",
            "        [-0.7633],\n",
            "        [ 1.3894],\n",
            "        [-1.4764],\n",
            "        [-0.8399],\n",
            "        [-1.4193],\n",
            "        [ 2.3259],\n",
            "        [ 1.7784],\n",
            "        [-0.9878],\n",
            "        [-0.5252],\n",
            "        [ 2.1671],\n",
            "        [ 1.1384],\n",
            "        [-1.2795],\n",
            "        [-2.2918],\n",
            "        [ 0.0368],\n",
            "        [ 0.6052],\n",
            "        [ 0.8836],\n",
            "        [ 2.5846],\n",
            "        [ 0.1224],\n",
            "        [ 0.9864],\n",
            "        [-3.6142],\n",
            "        [-2.4368],\n",
            "        [ 4.0252],\n",
            "        [ 2.4487],\n",
            "        [-0.0218],\n",
            "        [-1.2164],\n",
            "        [ 3.9428],\n",
            "        [-0.4648],\n",
            "        [-4.3058],\n",
            "        [ 3.2358],\n",
            "        [-4.1401],\n",
            "        [-0.0361],\n",
            "        [ 1.1276],\n",
            "        [ 0.5424],\n",
            "        [-0.3046],\n",
            "        [ 2.5600],\n",
            "        [-0.9757],\n",
            "        [ 2.7301],\n",
            "        [-3.6293],\n",
            "        [-3.7439],\n",
            "        [-0.2333],\n",
            "        [ 4.5414],\n",
            "        [-0.6535],\n",
            "        [-1.6573],\n",
            "        [-5.0749],\n",
            "        [ 0.1148],\n",
            "        [-0.0124],\n",
            "        [ 1.1599],\n",
            "        [ 0.3941],\n",
            "        [-0.1723],\n",
            "        [ 1.3565],\n",
            "        [ 0.3384],\n",
            "        [-0.5851],\n",
            "        [-3.9908],\n",
            "        [-2.0121],\n",
            "        [ 2.8754],\n",
            "        [ 1.4952],\n",
            "        [ 0.1652],\n",
            "        [ 1.6201],\n",
            "        [-1.1368],\n",
            "        [-1.0508],\n",
            "        [ 1.3331],\n",
            "        [ 2.2475],\n",
            "        [-2.9462],\n",
            "        [ 2.0098],\n",
            "        [-0.8156],\n",
            "        [-0.0555],\n",
            "        [ 1.8139],\n",
            "        [ 2.5778],\n",
            "        [-2.6843],\n",
            "        [ 2.7607],\n",
            "        [ 3.2262],\n",
            "        [ 0.0987],\n",
            "        [-4.6359],\n",
            "        [-0.1787],\n",
            "        [ 2.9847],\n",
            "        [ 1.6983],\n",
            "        [ 1.6628],\n",
            "        [-1.9680],\n",
            "        [ 0.0511],\n",
            "        [ 1.7953],\n",
            "        [-0.7466],\n",
            "        [ 1.3211],\n",
            "        [-1.5059],\n",
            "        [ 0.6481],\n",
            "        [-2.8148],\n",
            "        [ 4.6615],\n",
            "        [ 0.1582],\n",
            "        [-3.6246],\n",
            "        [-0.6162],\n",
            "        [-0.4768],\n",
            "        [-2.1332],\n",
            "        [-2.0067],\n",
            "        [-0.1097],\n",
            "        [ 0.3906],\n",
            "        [ 1.3240],\n",
            "        [-3.1449],\n",
            "        [ 3.5305],\n",
            "        [ 0.3058],\n",
            "        [-2.0290],\n",
            "        [ 0.5121],\n",
            "        [ 1.6012],\n",
            "        [-1.2261],\n",
            "        [ 2.8551],\n",
            "        [-6.2705],\n",
            "        [-0.9681],\n",
            "        [-1.9475],\n",
            "        [-0.3316],\n",
            "        [-2.1487],\n",
            "        [ 1.7306],\n",
            "        [ 3.0782],\n",
            "        [-1.4325],\n",
            "        [-2.6545],\n",
            "        [-1.9804],\n",
            "        [ 3.0057],\n",
            "        [ 0.5974],\n",
            "        [-4.1855],\n",
            "        [ 2.5858],\n",
            "        [ 2.9796],\n",
            "        [ 0.2557],\n",
            "        [ 2.0558],\n",
            "        [-2.6509],\n",
            "        [-2.5193],\n",
            "        [ 2.5667],\n",
            "        [ 0.7674],\n",
            "        [-5.9821],\n",
            "        [-0.7568],\n",
            "        [-0.7900],\n",
            "        [-2.0307]])\n"
          ]
        }
      ]
    },
    {
      "cell_type": "code",
      "source": [
        "#5\n",
        "XT_X = X.T @ X\n",
        "XT_X_inv = torch.inverse(XT_X)\n",
        "b_hat = XT_X_inv @ X.T @ y\n",
        "print(b_hat)\n"
      ],
      "metadata": {
        "colab": {
          "base_uri": "https://localhost:8080/"
        },
        "id": "0qMIuJT2Hhqb",
        "outputId": "81f08679-83d2-45a9-a095-61b99a84d237"
      },
      "execution_count": 52,
      "outputs": [
        {
          "output_type": "stream",
          "name": "stdout",
          "text": [
            "tensor([[-0.3584],\n",
            "        [-0.3855],\n",
            "        [-1.3543],\n",
            "        [ 0.1302],\n",
            "        [ 0.5462],\n",
            "        [-0.0097],\n",
            "        [ 1.3970],\n",
            "        [ 0.1155]])\n"
          ]
        }
      ]
    },
    {
      "cell_type": "code",
      "source": [
        "#6\n",
        "y_hat = X @ b_hat\n",
        "print(y_hat)\n"
      ],
      "metadata": {
        "colab": {
          "base_uri": "https://localhost:8080/"
        },
        "id": "ZxakEv2XI1zt",
        "outputId": "9c5c14bb-5b8f-4bfb-e19d-eeb2303d9b0a"
      },
      "execution_count": 59,
      "outputs": [
        {
          "output_type": "stream",
          "name": "stdout",
          "text": [
            "tensor([[ 0.1188],\n",
            "        [ 2.3704],\n",
            "        [-2.9777],\n",
            "        [-3.6560],\n",
            "        [-2.4237],\n",
            "        [-3.3273],\n",
            "        [ 0.0227],\n",
            "        [-1.3787],\n",
            "        [-2.2046],\n",
            "        [ 5.7670],\n",
            "        [ 1.2439],\n",
            "        [-0.8976],\n",
            "        [-2.5558],\n",
            "        [ 1.9745],\n",
            "        [-1.3190],\n",
            "        [-1.4843],\n",
            "        [-3.3794],\n",
            "        [-0.6141],\n",
            "        [-3.4155],\n",
            "        [-2.4463],\n",
            "        [-1.0471],\n",
            "        [-0.1944],\n",
            "        [ 2.9633],\n",
            "        [-2.1133],\n",
            "        [-1.0347],\n",
            "        [-2.5003],\n",
            "        [-1.3806],\n",
            "        [ 0.6772],\n",
            "        [ 0.0655],\n",
            "        [ 0.7069],\n",
            "        [ 0.9104],\n",
            "        [ 0.0129],\n",
            "        [ 0.5202],\n",
            "        [ 1.9759],\n",
            "        [-0.0441],\n",
            "        [-4.2609],\n",
            "        [ 2.8334],\n",
            "        [-0.3127],\n",
            "        [-0.9587],\n",
            "        [ 0.3649],\n",
            "        [ 2.4088],\n",
            "        [-0.6362],\n",
            "        [ 0.2573],\n",
            "        [-4.5167],\n",
            "        [-1.0936],\n",
            "        [-3.2769],\n",
            "        [ 3.9117],\n",
            "        [-0.5069],\n",
            "        [-3.4169],\n",
            "        [-2.7120],\n",
            "        [-1.9562],\n",
            "        [-1.3698],\n",
            "        [-3.8583],\n",
            "        [-1.2799],\n",
            "        [-1.7147],\n",
            "        [-0.8973],\n",
            "        [-1.9744],\n",
            "        [-0.6314],\n",
            "        [ 3.3606],\n",
            "        [ 4.0421],\n",
            "        [-5.4896],\n",
            "        [ 1.3331],\n",
            "        [-0.6995],\n",
            "        [ 0.3303],\n",
            "        [-1.1427],\n",
            "        [ 2.8578],\n",
            "        [-1.5433],\n",
            "        [-2.2529],\n",
            "        [-4.4280],\n",
            "        [-0.7926],\n",
            "        [-2.1177],\n",
            "        [-0.6090],\n",
            "        [ 0.2810],\n",
            "        [ 0.8298],\n",
            "        [-1.4815],\n",
            "        [-0.6627],\n",
            "        [-2.4460],\n",
            "        [ 2.2433],\n",
            "        [ 0.9980],\n",
            "        [-1.6151],\n",
            "        [ 0.6941],\n",
            "        [ 2.1299],\n",
            "        [ 1.4649],\n",
            "        [-0.5271],\n",
            "        [-3.1503],\n",
            "        [-1.0322],\n",
            "        [ 0.0652],\n",
            "        [ 0.1944],\n",
            "        [ 2.9139],\n",
            "        [ 0.0694],\n",
            "        [-0.1871],\n",
            "        [-3.2944],\n",
            "        [-1.2490],\n",
            "        [ 3.5387],\n",
            "        [ 2.2705],\n",
            "        [-0.1638],\n",
            "        [-0.6463],\n",
            "        [ 1.9847],\n",
            "        [ 0.9624],\n",
            "        [-3.2412],\n",
            "        [ 3.0792],\n",
            "        [-3.9517],\n",
            "        [ 0.5802],\n",
            "        [ 1.1133],\n",
            "        [ 0.8977],\n",
            "        [ 0.5367],\n",
            "        [ 0.6769],\n",
            "        [ 0.2883],\n",
            "        [ 0.5145],\n",
            "        [-2.2527],\n",
            "        [-2.5791],\n",
            "        [ 0.3058],\n",
            "        [ 3.5002],\n",
            "        [ 0.3620],\n",
            "        [-0.3478],\n",
            "        [-6.6111],\n",
            "        [ 0.3417],\n",
            "        [ 1.2279],\n",
            "        [ 1.2365],\n",
            "        [ 0.8757],\n",
            "        [-1.0354],\n",
            "        [ 2.6606],\n",
            "        [-0.7607],\n",
            "        [-0.9462],\n",
            "        [-3.7614],\n",
            "        [-3.6243],\n",
            "        [ 2.7281],\n",
            "        [-0.2068],\n",
            "        [ 0.3051],\n",
            "        [ 2.8086],\n",
            "        [-0.9868],\n",
            "        [-1.7215],\n",
            "        [-0.0595],\n",
            "        [ 2.6225],\n",
            "        [-3.3411],\n",
            "        [ 0.1659],\n",
            "        [-2.5630],\n",
            "        [-0.6244],\n",
            "        [ 2.5604],\n",
            "        [ 3.9123],\n",
            "        [-3.3922],\n",
            "        [ 1.2814],\n",
            "        [ 1.2632],\n",
            "        [ 0.5537],\n",
            "        [-2.1170],\n",
            "        [ 0.7170],\n",
            "        [ 3.6990],\n",
            "        [ 0.3786],\n",
            "        [ 0.5780],\n",
            "        [-2.3498],\n",
            "        [ 0.2904],\n",
            "        [ 1.2577],\n",
            "        [-1.0770],\n",
            "        [ 1.2997],\n",
            "        [-1.0457],\n",
            "        [ 0.0262],\n",
            "        [-3.2368],\n",
            "        [ 3.8660],\n",
            "        [-0.2674],\n",
            "        [-3.4399],\n",
            "        [ 0.2516],\n",
            "        [-0.5480],\n",
            "        [-3.6850],\n",
            "        [-1.1959],\n",
            "        [-0.4691],\n",
            "        [ 1.5308],\n",
            "        [ 1.3108],\n",
            "        [-2.4286],\n",
            "        [ 3.6323],\n",
            "        [ 0.1027],\n",
            "        [-0.8149],\n",
            "        [ 0.3625],\n",
            "        [-1.0834],\n",
            "        [-0.9804],\n",
            "        [ 2.6244],\n",
            "        [-6.0512],\n",
            "        [-1.6325],\n",
            "        [-2.0561],\n",
            "        [-0.4173],\n",
            "        [-1.9273],\n",
            "        [ 1.1329],\n",
            "        [ 2.1056],\n",
            "        [-2.4477],\n",
            "        [-2.3331],\n",
            "        [-3.0019],\n",
            "        [ 0.8874],\n",
            "        [ 0.4962],\n",
            "        [-1.2125],\n",
            "        [ 3.4661],\n",
            "        [ 2.0151],\n",
            "        [-0.8034],\n",
            "        [ 1.5243],\n",
            "        [-1.1531],\n",
            "        [-1.4857],\n",
            "        [ 2.7742],\n",
            "        [ 2.2239],\n",
            "        [-4.2208],\n",
            "        [-0.7669],\n",
            "        [-0.6117],\n",
            "        [-0.3776]])\n"
          ]
        }
      ]
    },
    {
      "cell_type": "code",
      "source": [
        "#7\n",
        "y_np = y.numpy()\n",
        "y_hat_np = y_hat.detach().numpy()\n",
        "\n",
        "MSE = np.mean((y_np - y_hat_np) ** 2)\n",
        "print(\"MSE:\", MSE)"
      ],
      "metadata": {
        "colab": {
          "base_uri": "https://localhost:8080/"
        },
        "id": "lNP773e9JQzV",
        "outputId": "4c4db314-b9ee-48e1-8c7d-2ed172403e22"
      },
      "execution_count": 56,
      "outputs": [
        {
          "output_type": "stream",
          "name": "stdout",
          "text": [
            "MSE: 1.0731604\n"
          ]
        }
      ]
    },
    {
      "cell_type": "code",
      "source": [],
      "metadata": {
        "id": "Rb7hUrt4JYeX"
      },
      "execution_count": null,
      "outputs": []
    }
  ],
  "metadata": {
    "accelerator": "GPU",
    "colab": {
      "provenance": [],
      "include_colab_link": true
    },
    "gpuClass": "standard",
    "kernelspec": {
      "display_name": "Python 3 (ipykernel)",
      "language": "python",
      "name": "python3"
    },
    "language_info": {
      "codemirror_mode": {
        "name": "ipython",
        "version": 3
      },
      "file_extension": ".py",
      "mimetype": "text/x-python",
      "name": "python",
      "nbconvert_exporter": "python",
      "pygments_lexer": "ipython3",
      "version": "3.10.12"
    }
  },
  "nbformat": 4,
  "nbformat_minor": 0
}